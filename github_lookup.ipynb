{
 "cells": [
  {
   "cell_type": "code",
   "execution_count": 6,
   "id": "41559c18-9d4a-48c0-8bb6-8f6a703691c6",
   "metadata": {},
   "outputs": [],
   "source": [
    "#based on code from https://github.com/emarco177/ice_breaker\n",
    "\n",
    "import os\n",
    "from dotenv import load_dotenv\n",
    "\n",
    "from langchain import hub\n",
    "from langchain.agents import create_react_agent, AgentExecutor\n",
    "from langchain_core.prompts import PromptTemplate\n",
    "from langchain_core.output_parsers import StrOutputParser\n",
    "from langchain_core.tools import Tool\n",
    "from langchain_openai import ChatOpenAI\n",
    "from langchain_community.tools.tavily_search import TavilySearchResults"
   ]
  },
  {
   "cell_type": "code",
   "execution_count": 7,
   "id": "a3d2645c-a8e0-4970-8ce0-47a0d451d06c",
   "metadata": {},
   "outputs": [
    {
     "name": "stdout",
     "output_type": "stream",
     "text": [
      "Using LangChain with Tavily and OpenAI to find a person's GitHub URL and summarize their public profile.\n",
      "Enter the person's name and location (e.g., 'John Mansfield Ithaca NY'): John Mansfield, Ithaca, NY\n",
      "Found GitHub URL: https://github.com/jlm429\n",
      "\n",
      "### Summary\n",
      "John Mansfield, known by his GitHub username jlm429, is a developer based in Ithaca, NY. He is active on GitHub, where he has garnered a small following and is involved in various projects.\n",
      "\n",
      "### Interesting Facts\n",
      "1. John has a LinkedIn profile under the name \"john-mansfield,\" indicating a professional presence beyond GitHub.\n",
      "2. He is affiliated with Cornell University, as suggested by his email address, which may imply a connection to academic or research activities.\n"
     ]
    }
   ],
   "source": [
    "#tools and template\n",
    "\n",
    "def get_profile_url_and_content(name: str):\n",
    "    \"\"\"Search GitHub using Tavily and return the best match (url + content).\"\"\"\n",
    "    search = TavilySearchResults()\n",
    "    results = search.invoke(f\"{name} GitHub site:github.com\")\n",
    "\n",
    "    if results and isinstance(results, list):\n",
    "        best = results[0]\n",
    "        return best[\"url\"], best[\"content\"]\n",
    "    return None, None\n",
    "\n",
    "\n",
    "def summarize_profile(info: str) -> str:\n",
    "    \"\"\"Uses LLM to summarize profile text and extract two interesting facts.\"\"\"\n",
    "    llm = ChatOpenAI(temperature=0, model_name=\"gpt-4o-mini\")\n",
    "\n",
    "    summary_template = \"\"\"\n",
    "    Given the following GitHub profile content:\n",
    "    {information}\n",
    "\n",
    "    Return:\n",
    "    1. A short summary of the person\n",
    "    2. Two interesting facts about them\n",
    "    \"\"\"\n",
    "\n",
    "    prompt_template = PromptTemplate(\n",
    "        input_variables=[\"information\"], template=summary_template\n",
    "    )\n",
    "\n",
    "    chain = prompt_template | llm | StrOutputParser()\n",
    "    return chain.invoke({\"information\": info})\n",
    "\n",
    "\n",
    "if __name__ == \"__main__\":\n",
    "    load_dotenv()\n",
    "    print(\"Using LangChain with Tavily and OpenAI to find a person's GitHub URL and summarize their public profile.\")\n",
    "    name = input(\"Enter the person's name and location (e.g., 'John Mansfield Ithaca NY'): \")\n",
    "    github_url, profile_content = get_profile_url_and_content(name)\n",
    "\n",
    "    if github_url and profile_content:\n",
    "        print(f\"Found GitHub URL: {github_url}\\n\")\n",
    "        summary = summarize_profile(profile_content)\n",
    "        print(summary)\n",
    "    else:\n",
    "        print(\"No GitHub profile found.\")"
   ]
  },
  {
   "cell_type": "code",
   "execution_count": null,
   "id": "d232078b-631b-4bfa-bc31-a6dcfc072050",
   "metadata": {},
   "outputs": [],
   "source": [
    "#TODO: add output parsers for frontend consumption"
   ]
  }
 ],
 "metadata": {
  "kernelspec": {
   "display_name": "langchain (Pipenv)",
   "language": "python",
   "name": "myenv"
  },
  "language_info": {
   "codemirror_mode": {
    "name": "ipython",
    "version": 3
   },
   "file_extension": ".py",
   "mimetype": "text/x-python",
   "name": "python",
   "nbconvert_exporter": "python",
   "pygments_lexer": "ipython3",
   "version": "3.11.4"
  }
 },
 "nbformat": 4,
 "nbformat_minor": 5
}
