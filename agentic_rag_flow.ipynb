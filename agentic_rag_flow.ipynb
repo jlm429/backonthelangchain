{
 "cells": [
  {
   "cell_type": "markdown",
   "id": "3f4753b0-a505-4ec2-b62c-741ec0822cad",
   "metadata": {},
   "source": [
    "# Agentic RAG Flow\n",
    "\n",
    "---\n",
    "\n",
    "## Introduction\n",
    "\n",
    "This notebook demonstrates an **Advanced Retrieval-Augmented Generation (RAG)** workflow using [LangGraph](https://www.langchain.com/langgraph). This prototype is designed to:\n",
    "\n",
    "- Dynamically route questions to either a **vectorstore retriever** or **web search** based on relevance.\n",
    "- Grade retrieved documents and model generations for **usefulness** and **hallucination detection**.\n",
    "- Adaptively iterate using feedback and conditional routing to improve responses.\n",
    "\n",
    "This workflow is inspired by:\n",
    "- [**Self-RAG**](https://arxiv.org/abs/2310.11511) (Akari Asai et al., 2023)\n",
    "- [**Adaptive RAG**](https://arxiv.org/abs/2403.14403) (Jeong et al., 2024)\n",
    "- [LangGraph Udemy course](https://www.udemy.com/course/langgraph).\n",
    "\n",
    "### System Flow Diagram\n",
    "\n",
    "Below is the graph representation of the LangGraph workflow:\n",
    "\n",
    "![LangGraph Workflow](graph.png)"
   ]
  },
  {
   "cell_type": "code",
   "execution_count": 1,
   "id": "797e816d-4abf-4518-a133-2df62c801915",
   "metadata": {},
   "outputs": [
    {
     "name": "stderr",
     "output_type": "stream",
     "text": [
      "USER_AGENT environment variable not set, consider setting it to identify your requests.\n"
     ]
    },
    {
     "data": {
      "text/plain": [
       "True"
      ]
     },
     "execution_count": 1,
     "metadata": {},
     "output_type": "execute_result"
    }
   ],
   "source": [
    "# Environment Setup and Imports\n",
    "\n",
    "from dotenv import load_dotenv\n",
    "from langchain.text_splitter import RecursiveCharacterTextSplitter\n",
    "from langchain_chroma import Chroma\n",
    "from langchain_community.document_loaders import WebBaseLoader\n",
    "from langchain_openai import OpenAIEmbeddings\n",
    "from typing import List, TypedDict, Dict, Any, Literal\n",
    "from langchain.schema import Document\n",
    "from langchain_core.prompts import ChatPromptTemplate\n",
    "from pydantic import BaseModel, Field\n",
    "from langchain_openai import ChatOpenAI\n",
    "from langchain_core.output_parsers import StrOutputParser\n",
    "from langchain import hub\n",
    "from langchain_core.runnables import RunnableSequence\n",
    "from langchain_tavily import TavilySearch\n",
    "from langgraph.graph import END, StateGraph\n",
    "\n",
    "load_dotenv()"
   ]
  },
  {
   "cell_type": "code",
   "execution_count": null,
   "id": "8c5ac2b6-eec4-4c16-8f1b-043d1be42e36",
   "metadata": {},
   "outputs": [],
   "source": [
    "# Load and Split Documents\n",
    "\n",
    "urls = [\n",
    "    \"https://lilianweng.github.io/posts/2023-06-23-agent/\",\n",
    "    \"https://lilianweng.github.io/posts/2023-03-15-prompt-engineering/\",\n",
    "    \"https://lilianweng.github.io/posts/2023-10-25-adv-attack-llm/\",\n",
    "]\n",
    "docs = [WebBaseLoader(url).load() for url in urls]\n",
    "docs_list = [item for sublist in docs for item in sublist]\n",
    "text_splitter = RecursiveCharacterTextSplitter.from_tiktoken_encoder(chunk_size=250, chunk_overlap=0)\n",
    "doc_splits = text_splitter.split_documents(docs_list)"
   ]
  },
  {
   "cell_type": "code",
   "execution_count": 2,
   "id": "4d779985-2a52-4de3-bf92-ef0622283a2c",
   "metadata": {},
   "outputs": [],
   "source": [
    "# Set Up Vectorstore Retriever\n",
    "\n",
    "# Uncomment to regenerate vectorstore\n",
    "# vectorstore = Chroma.from_documents(\n",
    "#     documents=doc_splits,\n",
    "#     collection_name=\"rag-chroma\",\n",
    "#     embedding=OpenAIEmbeddings(),\n",
    "#     persist_directory=\"./.chroma\",\n",
    "# )\n",
    "\n",
    "retriever = Chroma(\n",
    "    collection_name=\"rag-chroma\",\n",
    "    persist_directory=\"./.chroma\",\n",
    "    embedding_function=OpenAIEmbeddings(),\n",
    ").as_retriever()"
   ]
  },
  {
   "cell_type": "code",
   "execution_count": 4,
   "id": "bc7f7f32-f1fd-4b30-be66-aea789d303ae",
   "metadata": {},
   "outputs": [
    {
     "name": "stderr",
     "output_type": "stream",
     "text": [
      "/home/john/.local/share/virtualenvs/ice_breaker-p8pkssDf/lib/python3.11/site-packages/langchain_openai/chat_models/base.py:1685: UserWarning: Cannot use method='json_schema' with model gpt-3.5-turbo since it doesn't support OpenAI's Structured Output API. You can see supported models here: https://platform.openai.com/docs/guides/structured-outputs#supported-models. To fix this warning, set `method='function_calling'. Overriding to method='function_calling'.\n",
      "  warnings.warn(\n"
     ]
    }
   ],
   "source": [
    "# Graph State Definition, Retrieval Node, and Document Relevance Grader\n",
    "\n",
    "class GraphState(TypedDict, total=False):\n",
    "    question: str\n",
    "    generation: str\n",
    "    web_search: bool\n",
    "    documents: List[Document]\n",
    "\n",
    "def retrieve(state: GraphState) -> Dict[str, Any]:\n",
    "    print(\"---RETRIEVE---\")\n",
    "    question = state[\"question\"]\n",
    "    documents = retriever.invoke(question)\n",
    "    return {\"documents\": documents, \"question\": question}\n",
    "\n",
    "class GradeDocuments(BaseModel):\n",
    "    binary_score: str = Field(description=\"Documents are relevant to the question, 'yes' or 'no'\")\n",
    "\n",
    "llm = ChatOpenAI(temperature=0)\n",
    "structured_llm_grader = llm.with_structured_output(GradeDocuments)\n",
    "\n",
    "grade_prompt = ChatPromptTemplate.from_messages([\n",
    "    (\"system\", \"You are a grader assessing relevance of a retrieved document to a user question.\"),\n",
    "    (\"human\", \"Retrieved document: \\n\\n {document} \\n\\n User question: {question}\"),\n",
    "])\n",
    "retrieval_grader = grade_prompt | structured_llm_grader\n",
    "\n",
    "def grade_documents(state: GraphState) -> Dict[str, Any]:\n",
    "    print(\"---CHECK DOCUMENT RELEVANCE TO QUESTION---\")\n",
    "    question = state[\"question\"]\n",
    "    documents = state[\"documents\"]\n",
    "    filtered_docs = []\n",
    "    web_search = False\n",
    "    for d in documents:\n",
    "        score = retrieval_grader.invoke({\"question\": question, \"document\": d.page_content})\n",
    "        if score.binary_score.lower() == \"yes\":\n",
    "            print(\"---GRADE: DOCUMENT RELEVANT---\")\n",
    "            filtered_docs.append(d)\n",
    "        else:\n",
    "            print(\"---GRADE: DOCUMENT NOT RELEVANT---\")\n",
    "            web_search = True\n",
    "    return {\"documents\": filtered_docs, \"question\": question, \"web_search\": web_search}"
   ]
  },
  {
   "cell_type": "code",
   "execution_count": 5,
   "id": "88dc75af-6c7a-4e54-b447-1a6b7d5a0915",
   "metadata": {},
   "outputs": [
    {
     "name": "stderr",
     "output_type": "stream",
     "text": [
      "/home/john/.local/share/virtualenvs/ice_breaker-p8pkssDf/lib/python3.11/site-packages/langsmith/client.py:272: LangSmithMissingAPIKeyWarning: API key must be provided when using hosted LangSmith API\n",
      "  warnings.warn(\n",
      "/home/john/.local/share/virtualenvs/ice_breaker-p8pkssDf/lib/python3.11/site-packages/langchain_openai/chat_models/base.py:1685: UserWarning: Cannot use method='json_schema' with model gpt-3.5-turbo since it doesn't support OpenAI's Structured Output API. You can see supported models here: https://platform.openai.com/docs/guides/structured-outputs#supported-models. To fix this warning, set `method='function_calling'. Overriding to method='function_calling'.\n",
      "  warnings.warn(\n"
     ]
    }
   ],
   "source": [
    "## ✂Truncate Documents Function, Generation and Web Search Nodes, Answer & Hallucination Graders\n",
    "\n",
    "def truncate_documents(documents, max_chars=12000):\n",
    "    total = 0\n",
    "    result = []\n",
    "    for d in documents:\n",
    "        if total + len(d.page_content) > max_chars:\n",
    "            break\n",
    "        result.append(d)\n",
    "        total += len(d.page_content)\n",
    "    return result\n",
    "\n",
    "prompt = hub.pull(\"rlm/rag-prompt\")\n",
    "generation_chain = prompt | llm | StrOutputParser()\n",
    "\n",
    "def generate(state: GraphState) -> Dict[str, Any]:\n",
    "    print(\"---GENERATE---\")\n",
    "    question = state[\"question\"]\n",
    "    documents = state.get(\"documents\", [])\n",
    "    trimmed_docs = truncate_documents(documents)\n",
    "    generation = generation_chain.invoke({\"context\": trimmed_docs, \"question\": question})\n",
    "    return {\"documents\": documents, \"question\": question, \"generation\": generation}\n",
    "\n",
    "web_search_tool = TavilySearch(max_results=3)\n",
    "\n",
    "def web_search(state: GraphState) -> Dict[str, Any]:\n",
    "    print(\"---WEB SEARCH---\")\n",
    "    question = state[\"question\"]\n",
    "    tavily_results = web_search_tool.invoke({\"query\": question})\n",
    "    if isinstance(tavily_results, list) and isinstance(tavily_results[0], dict):\n",
    "        joined = \"\\n\".join([r.get(\"content\", \"\") for r in tavily_results])\n",
    "    elif isinstance(tavily_results, list):\n",
    "        joined = \"\\n\".join(tavily_results)\n",
    "    else:\n",
    "        joined = str(tavily_results)\n",
    "    return {\"documents\": [Document(page_content=joined)], \"question\": question}\n",
    "\n",
    "class GradeAnswer(BaseModel):\n",
    "    binary_score: bool = Field(description=\"Answer addresses the question, 'yes' or 'no'\")\n",
    "\n",
    "answer_grader = ChatPromptTemplate.from_messages([\n",
    "    (\"system\", \"You are a grader assessing whether an answer addresses / resolves a question\"),\n",
    "    (\"human\", \"User question: \\n\\n {question} \\n\\n LLM generation: {generation}\"),\n",
    "]) | llm.with_structured_output(GradeAnswer)\n",
    "\n",
    "class GradeHallucinations(BaseModel):\n",
    "    binary_score: bool = Field(description=\"Answer is grounded in the facts, 'yes' or 'no'\")\n",
    "\n",
    "hallucination_grader = ChatPromptTemplate.from_messages([\n",
    "    (\"system\", \"You are a grader assessing whether an LLM generation is grounded in / supported by a set of retrieved facts.\"),\n",
    "    (\"human\", \"Set of facts: \\n\\n {documents} \\n\\n LLM generation: {generation}\"),\n",
    "]) | llm.with_structured_output(GradeHallucinations)"
   ]
  },
  {
   "cell_type": "code",
   "execution_count": 6,
   "id": "a54e98af-65ac-4c90-b788-5712d3bca45e",
   "metadata": {},
   "outputs": [],
   "source": [
    "# Query Router and Routing Logic\n",
    "\n",
    "class RouteQuery(BaseModel):\n",
    "    datasource: Literal[\"vectorstore\", \"websearch\"] = Field(...)\n",
    "\n",
    "question_router = ChatPromptTemplate.from_messages([\n",
    "    (\"system\", \"You are an expert at routing a user question to a vectorstore or web search.\"),\n",
    "    (\"human\", \"{question}\"),\n",
    "]) | llm.with_structured_output(RouteQuery)\n",
    "\n",
    "def route_question(state: GraphState) -> str:\n",
    "    print(\"---ROUTE QUESTION---\")\n",
    "    question = state[\"question\"]\n",
    "    source: RouteQuery = question_router.invoke({\"question\": question})\n",
    "    if source.datasource == \"websearch\":\n",
    "        print(\"---ROUTE QUESTION TO WEB SEARCH---\")\n",
    "        return \"websearch\"\n",
    "    print(\"---ROUTE QUESTION TO RAG---\")\n",
    "    return \"retrieve\"\n",
    "\n",
    "def decide_to_generate(state: GraphState) -> str:\n",
    "    print(\"---ASSESS GRADED DOCUMENTS---\")\n",
    "    return \"websearch\" if state[\"web_search\"] else \"generate\"\n",
    "\n",
    "def grade_generation_grounded_in_documents_and_question(state: GraphState) -> str:\n",
    "    print(\"---CHECK HALLUCINATIONS---\")\n",
    "    if hallucination_grader.invoke({\"documents\": state[\"documents\"], \"generation\": state[\"generation\"]}).binary_score:\n",
    "        print(\"---GENERATION IS GROUNDED---\")\n",
    "        if answer_grader.invoke({\"question\": state[\"question\"], \"generation\": state[\"generation\"]}).binary_score:\n",
    "            print(\"---GENERATION IS USEFUL---\")\n",
    "            return \"useful\"\n",
    "        print(\"---GENERATION NOT USEFUL---\")\n",
    "        return \"not useful\"\n",
    "    print(\"---GENERATION NOT GROUNDED---\")\n",
    "    return \"not supported\""
   ]
  },
  {
   "cell_type": "code",
   "execution_count": 15,
   "id": "d52f2076-bb05-45ae-a07f-249e4702a814",
   "metadata": {},
   "outputs": [
    {
     "name": "stdout",
     "output_type": "stream",
     "text": [
      "LangGraph Workflow Structure:\n",
      "---\n",
      "config:\n",
      "  flowchart:\n",
      "    curve: linear\n",
      "---\n",
      "graph TD;\n",
      "\t__start__([<p>__start__</p>]):::first\n",
      "\tretrieve(retrieve)\n",
      "\tgrade_documents(grade_documents)\n",
      "\tgenerate(generate)\n",
      "\twebsearch(websearch)\n",
      "\t__end__([<p>__end__</p>]):::last\n",
      "\t__start__ -.-> retrieve;\n",
      "\t__start__ -.-> websearch;\n",
      "\tgenerate -. &nbsp;useful&nbsp; .-> __end__;\n",
      "\tgenerate -. &nbsp;not useful&nbsp; .-> websearch;\n",
      "\tgrade_documents -.-> generate;\n",
      "\tgrade_documents -.-> websearch;\n",
      "\tretrieve --> grade_documents;\n",
      "\twebsearch --> generate;\n",
      "\tgenerate -. &nbsp;not supported&nbsp; .-> generate;\n",
      "\tclassDef default fill:#f2f0ff,line-height:1.2\n",
      "\tclassDef first fill-opacity:0\n",
      "\tclassDef last fill:#bfb6fc\n",
      "\n"
     ]
    }
   ],
   "source": [
    "# Build LangGraph Workflow\n",
    "\n",
    "RETRIEVE = \"retrieve\"\n",
    "GRADE_DOCUMENTS = \"grade_documents\"\n",
    "GENERATE = \"generate\"\n",
    "WEBSEARCH = \"websearch\"\n",
    "\n",
    "workflow = StateGraph(GraphState)\n",
    "workflow.add_node(RETRIEVE, retrieve)\n",
    "workflow.add_node(GRADE_DOCUMENTS, grade_documents)\n",
    "workflow.add_node(GENERATE, generate)\n",
    "workflow.add_node(WEBSEARCH, web_search)\n",
    "workflow.set_conditional_entry_point(route_question, {\n",
    "    WEBSEARCH: WEBSEARCH,\n",
    "    RETRIEVE: RETRIEVE,\n",
    "})\n",
    "workflow.add_edge(RETRIEVE, GRADE_DOCUMENTS)\n",
    "workflow.add_conditional_edges(GRADE_DOCUMENTS, decide_to_generate, {\n",
    "    WEBSEARCH: WEBSEARCH,\n",
    "    GENERATE: GENERATE,\n",
    "})\n",
    "workflow.add_conditional_edges(GENERATE, grade_generation_grounded_in_documents_and_question, {\n",
    "    \"not supported\": GENERATE,\n",
    "    \"useful\": END,\n",
    "    \"not useful\": WEBSEARCH,\n",
    "})\n",
    "workflow.add_edge(WEBSEARCH, GENERATE)\n",
    "workflow.add_edge(GENERATE, END)\n",
    "app = workflow.compile()\n",
    "\n",
    "#output graph structure\n",
    "from IPython.display import Image\n",
    "print(\"LangGraph Workflow Structure:\")\n",
    "\n",
    "app.get_graph().draw_mermaid_png(output_file_path=\"graph.png\")\n",
    "Image(filename=\"graph.png\")\n",
    "print(app.get_graph().draw_mermaid())"
   ]
  },
  {
   "cell_type": "code",
   "execution_count": 16,
   "id": "fb42460a-5e02-46e4-a843-2bba88030307",
   "metadata": {},
   "outputs": [
    {
     "name": "stdin",
     "output_type": "stream",
     "text": [
      "Enter your question:  What is agent memory?\n"
     ]
    },
    {
     "name": "stdout",
     "output_type": "stream",
     "text": [
      "---ROUTE QUESTION---\n",
      "---ROUTE QUESTION TO WEB SEARCH---\n",
      "---WEB SEARCH---\n",
      "---GENERATE---\n",
      "---CHECK HALLUCINATIONS---\n",
      "---GENERATION IS GROUNDED---\n",
      "---GENERATION IS USEFUL---\n",
      "\n",
      "\n",
      "Final Answer: Agent memory refers to the ability of AI agents to retain information over time, allowing them to behave more intelligently by remembering prior conversations. It enables context-aware AI behavior and stores persistent knowledge that can be used across sessions or tasks. Agent memory empowers AI systems to store and recall past experiences to improve decision-making and overall performance.\n"
     ]
    }
   ],
   "source": [
    "# Run App with User Input\n",
    "\n",
    "user_question = input(\"Enter your question: \")\n",
    "result = app.invoke({\n",
    "    \"question\": user_question,\n",
    "    \"documents\": [],\n",
    "    \"generation\": \"\",\n",
    "    \"web_search\": False\n",
    "})\n",
    "print(\"\\n\\nFinal Answer:\", result.get(\"generation\"))"
   ]
  },
  {
   "cell_type": "code",
   "execution_count": null,
   "id": "d46641b6-c3a5-4b39-8eee-e050ae54336a",
   "metadata": {},
   "outputs": [],
   "source": []
  }
 ],
 "metadata": {
  "kernelspec": {
   "display_name": "langchain (Pipenv)",
   "language": "python",
   "name": "myenv"
  },
  "language_info": {
   "codemirror_mode": {
    "name": "ipython",
    "version": 3
   },
   "file_extension": ".py",
   "mimetype": "text/x-python",
   "name": "python",
   "nbconvert_exporter": "python",
   "pygments_lexer": "ipython3",
   "version": "3.11.4"
  }
 },
 "nbformat": 4,
 "nbformat_minor": 5
}
