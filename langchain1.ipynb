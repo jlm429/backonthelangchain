{
 "cells": [
  {
   "cell_type": "code",
   "execution_count": 1,
   "id": "41559c18-9d4a-48c0-8bb6-8f6a703691c6",
   "metadata": {},
   "outputs": [],
   "source": [
    "from dotenv import load_dotenv\n",
    "from langchain.prompts.prompt import PromptTemplate\n",
    "from langchain_core.output_parsers import StrOutputParser\n",
    "from langchain_openai import ChatOpenAI"
   ]
  },
  {
   "cell_type": "code",
   "execution_count": 2,
   "id": "a3d2645c-a8e0-4970-8ce0-47a0d451d06c",
   "metadata": {},
   "outputs": [
    {
     "name": "stdout",
     "output_type": "stream",
     "text": [
      "Hello LangChain\n",
      "1. Kurt Friedrich Gödel was a renowned logician, mathematician, and philosopher who made significant contributions to the foundations of mathematics in the 20th century. He is best known for his incompleteness theorems, which addressed limitations of formal axiomatic systems.\n",
      "\n",
      "2. Two interesting facts about Gödel:\n",
      "- He proved his completeness theorem in 1929 as part of his dissertation to earn a doctorate at the University of Vienna.\n",
      "- Gödel emigrated to the United States in 1939 to escape the rise of Nazi Germany and later suffered from mental illness, ultimately leading to his death by starvation.\n"
     ]
    }
   ],
   "source": [
    "load_dotenv()\n",
    "\n",
    "print(\"Hello LangChain\")\n",
    "information = \"\"\"\n",
    "Kurt Friedrich Gödel (/ˈɡɜːrdəl/ GUR-dəl;[2] German: [kʊʁt ˈɡøːdl̩] ⓘ; April 28, 1906 – January 14, 1978) was a logician, mathematician, and philosopher. Considered along with Aristotle and Gottlob Frege to be one of the most significant logicians in history, Gödel profoundly influenced scientific and philosophical thinking in the 20th century (at a time when Bertrand Russell,[3] Alfred North Whitehead,[3] and David Hilbert were using logic and set theory to investigate the foundations of mathematics), building on earlier work by Frege, Richard Dedekind, and Georg Cantor.\n",
    "\n",
    "Gödel's discoveries in the foundations of mathematics led to the proof of his completeness theorem in 1929 as part of his dissertation to earn a doctorate at the University of Vienna, and the publication of Gödel's incompleteness theorems two years later, in 1931. The incompleteness theorems address limitations of formal axiomatic systems. In particular, they imply that a formal axiomatic system satisfying certain technical conditions cannot decide the truth value of all statements about the natural numbers, and cannot prove that it is itself consistent.[4][5] To prove this, Gödel developed a technique now known as Gödel numbering, which codes formal expressions as natural numbers.\n",
    "\n",
    "Gödel also showed that neither the axiom of choice nor the continuum hypothesis can be disproved from the accepted Zermelo–Fraenkel set theory, assuming that its axioms are consistent. The former result opened the door for mathematicians to assume the axiom of choice in their proofs. He also made important contributions to proof theory by clarifying the connections between classical logic, intuitionistic logic, and modal logic.\n",
    "\n",
    "Born into a wealthy German-speaking family in Brno, Gödel emigrated to the United States in 1939 to escape the rise of Nazi Germany. Later in life, he suffered from mental illness, which ultimately claimed his life: believing that his food was being poisoned, he refused to eat and starved to death.\n",
    "\n",
    "\"\"\"\n",
    "\n",
    "summary_template = \"\"\"\n",
    "given the information {information} about a person I want you to create:\n",
    "1. A short summary\n",
    "2. two interesting facts about them\n",
    "\"\"\"\n",
    "\n",
    "summary_prompt_template = PromptTemplate(\n",
    "    input_variables=[\"information\"], template=summary_template\n",
    ")\n",
    "\n",
    "llm = ChatOpenAI(temperature=0, model_name=\"gpt-3.5-turbo\")\n",
    "\n",
    "chain = summary_prompt_template | llm | StrOutputParser()\n",
    "res = chain.invoke(input={\"information\": information})\n",
    "\n",
    "print(res)\n"
   ]
  },
  {
   "cell_type": "code",
   "execution_count": null,
   "id": "d232078b-631b-4bfa-bc31-a6dcfc072050",
   "metadata": {},
   "outputs": [],
   "source": []
  }
 ],
 "metadata": {
  "kernelspec": {
   "display_name": "langchain (Pipenv)",
   "language": "python",
   "name": "myenv"
  },
  "language_info": {
   "codemirror_mode": {
    "name": "ipython",
    "version": 3
   },
   "file_extension": ".py",
   "mimetype": "text/x-python",
   "name": "python",
   "nbconvert_exporter": "python",
   "pygments_lexer": "ipython3",
   "version": "3.11.4"
  }
 },
 "nbformat": 4,
 "nbformat_minor": 5
}
